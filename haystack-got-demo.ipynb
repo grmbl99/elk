{
 "cells": [
  {
   "cell_type": "code",
   "execution_count": 1,
   "metadata": {},
   "outputs": [
    {
     "ename": "ModuleNotFoundError",
     "evalue": "No module named 'haystack.document_stores'; 'haystack' is not a package",
     "output_type": "error",
     "traceback": [
      "\u001b[0;31m---------------------------------------------------------------------------\u001b[0m",
      "\u001b[0;31mModuleNotFoundError\u001b[0m                       Traceback (most recent call last)",
      "Cell \u001b[0;32mIn [1], line 2\u001b[0m\n\u001b[1;32m      1\u001b[0m \u001b[39mimport\u001b[39;00m \u001b[39mos\u001b[39;00m\n\u001b[0;32m----> 2\u001b[0m \u001b[39mfrom\u001b[39;00m \u001b[39mhaystack\u001b[39;00m\u001b[39m.\u001b[39;00m\u001b[39mdocument_stores\u001b[39;00m \u001b[39mimport\u001b[39;00m ElasticsearchDocumentStore\n\u001b[1;32m      4\u001b[0m \u001b[39m# Get the host where Elasticsearch is running, default to localhost\u001b[39;00m\n\u001b[1;32m      5\u001b[0m host \u001b[39m=\u001b[39m os\u001b[39m.\u001b[39menviron\u001b[39m.\u001b[39mget(\u001b[39m\"\u001b[39m\u001b[39mELASTICSEARCH_HOST\u001b[39m\u001b[39m\"\u001b[39m, \u001b[39m\"\u001b[39m\u001b[39mlocalhost\u001b[39m\u001b[39m\"\u001b[39m)\n",
      "File \u001b[0;32m~/Desktop/elk/haystack.py:2\u001b[0m\n\u001b[1;32m      1\u001b[0m \u001b[39mimport\u001b[39;00m \u001b[39mos\u001b[39;00m\n\u001b[0;32m----> 2\u001b[0m \u001b[39mfrom\u001b[39;00m \u001b[39mhaystack\u001b[39;00m\u001b[39m.\u001b[39;00m\u001b[39mdocument_stores\u001b[39;00m \u001b[39mimport\u001b[39;00m ElasticsearchDocumentStore\n\u001b[1;32m      3\u001b[0m \u001b[39mfrom\u001b[39;00m \u001b[39mhaystack\u001b[39;00m\u001b[39m.\u001b[39;00m\u001b[39mutils\u001b[39;00m \u001b[39mimport\u001b[39;00m convert_files_to_docs\n\u001b[1;32m      4\u001b[0m \u001b[39mfrom\u001b[39;00m \u001b[39mhaystack\u001b[39;00m\u001b[39m.\u001b[39;00m\u001b[39mutils\u001b[39;00m \u001b[39mimport\u001b[39;00m print_answers\n",
      "\u001b[0;31mModuleNotFoundError\u001b[0m: No module named 'haystack.document_stores'; 'haystack' is not a package"
     ]
    }
   ],
   "source": [
    "import os\n",
    "from haystack.document_stores import ElasticsearchDocumentStore\n",
    "\n",
    "# Get the host where Elasticsearch is running, default to localhost\n",
    "host = os.environ.get(\"ELASTICSEARCH_HOST\", \"localhost\")\n",
    "document_store = ElasticsearchDocumentStore(host=host, username=\"\", password=\"\", index=\"got\")"
   ]
  },
  {
   "cell_type": "code",
   "execution_count": 2,
   "metadata": {},
   "outputs": [
    {
     "name": "stdout",
     "output_type": "stream",
     "text": [
      "[<Document: {'content': \"Linda Antonsson and Elio García at Archipelacon on June 28, 2015.\\n'''Elio Miguel García Jr.''' (born May 6, 1978) and '''Linda Maria Antonsson''' (born November 18, 1974) are authors known for their contributions and expertise in the ''A Song of Ice and Fire'' series by George R. R. Martin, co-writing in 2014 with Martin ''The World of Ice & Fire'', a companion book for the series. They are also the founders of the fansite Westeros.org, one of the earliest fan websites for ''A Song of Ice and Fire''.\", 'content_type': 'text', 'score': None, 'meta': {'name': '145_Elio_M._García_Jr._and_Linda_Antonsson.txt'}, 'embedding': None, 'id': '41655cc804bb07b1569f3118ce70e05'}>, <Document: {'content': '\\n==Career==\\nElio García was attending the University of Miami, while his partner Linda Antonsson was living in Sweden. At that time, in 1996, Antonsson introduced García to the \\'\\'A Song of Ice and Fire\\'\\' book series when it came out on paperback. After the second book, \\'\\'A Clash of Kings\\'\\', was released, they decided to create a forum for discussion of the series, creating an early iteration of Westeros.org, and later expanded it as the series became more popular. As of 2016, Westeros.org had more than 100,000 registered members.\\nGarcía and Antonsson have communicated closely with George R. R. Martin, serving sometimes as fact checkers and researchers of the \\'\\'A Song of Ice and Fire\\'\\' universe. They first approached Martin when they had the desire to create a game based on the series, seeking his permission, and created Westeros.org as an information source about how to play the game, titled \"Blood of Dragons\", but it transformed to become more encompassing of the entire series as a whole, with discussion forums, news, and a Wiki.\\nAround 2000, when \\'\\'A Storm of Swords\\'\\' was published, García and Antonsson began compiling a concordance of facts and details about Westeros, which they sent to Martin, leading him to state that they knew more about Westeros than he did. During the writing of the series\\' fourth book, \\'\\'A Feast for Crows\\'\\', the couple became a regular fact checker for details regarding the series\\' many characters and locations.\\nAfter meeting with Martin in person in Santa Fe, New Mexico, the pair was approached by Martin to co-author a book titled \\'\\'The World of Ice & Fire\\'\\', a companion book which focuses primarily on the history of the Targaryen family, one of the main families presented in the books. The book is written from the point of view that it is a scholarly work of a maester at the Citadel, the main center of knowledge in the world of Westeros. They work together from their home in Nödinge-Nol, near Gothenburg, Sweden.\\nAntonsson has stated that they never contribute to the main series of books on a story level, rather about setting details and continuity details. In addition to writing, Antonsson has also done English to Swedish translating, including for \\'\\'Game of Thrones\\'\\'.\\nThe pair provided episode recaps, analysis and video commentary for each episode of Game of Thrones on westeros.org, but as the television series surpassed the book series, they have become critics of many of the show\\'s plot conveniences, in their view, and \"clichés\"; following the 6th season of the program, Garcia announced that he would no longer be watching the show, after which Antonsson began doing the episode reviews and commentary alone.', 'content_type': 'text', 'score': None, 'meta': {'name': '145_Elio_M._García_Jr._and_Linda_Antonsson.txt'}, 'embedding': None, 'id': '75c286c84f4070134a7517b1a6084679'}>, <Document: {'content': \"\\n==Personal life==\\nGarcía and Antonsson met in 1995 while playing a game based on ''The Lord of the Rings'' over the internet. They were married in 2014, the same day that ''The World of Ice & Fire'' was released, 16 years after the couple had become engaged. García moved to Sweden in 1999, where the couple now lives in Nödinge, Ale Municipality.\", 'content_type': 'text', 'score': None, 'meta': {'name': '145_Elio_M._García_Jr._and_Linda_Antonsson.txt'}, 'embedding': None, 'id': '71a783f2734f7e88ed548076e4889bb7'}>]\n"
     ]
    }
   ],
   "source": [
    "from haystack.utils import clean_wiki_text, convert_files_to_docs, fetch_archive_from_http\n",
    "\n",
    "# Let's first fetch some documents that we want to query\n",
    "# Here: 517 Wikipedia articles for Game of Thrones\n",
    "doc_dir = \"haystackdata/tutorial1\"\n",
    "s3_url = \"https://s3.eu-central-1.amazonaws.com/deepset.ai-farm-qa/datasets/documents/wiki_gameofthrones_txt1.zip\"\n",
    "fetch_archive_from_http(url=s3_url, output_dir=doc_dir)\n",
    "\n",
    "# Convert files to dicts\n",
    "# You can optionally supply a cleaning function that is applied to each doc (e.g. to remove footers)\n",
    "# It must take a str as input, and return a str.\n",
    "docs = convert_files_to_docs(dir_path=doc_dir, clean_func=clean_wiki_text, split_paragraphs=True)\n",
    "\n",
    "# We now have a list of dictionaries that we can write to our document store.\n",
    "# If your texts come from a different source (e.g. a DB), you can of course skip convert_files_to_dicts() and create the dictionaries yourself.\n",
    "# The default format here is:\n",
    "# {\n",
    "#    'content': \"<DOCUMENT_TEXT_HERE>\",\n",
    "#    'meta': {'name': \"<DOCUMENT_NAME_HERE>\", ...}\n",
    "# }\n",
    "# (Optionally: you can also add more key-value-pairs here, that will be indexed as fields in Elasticsearch and\n",
    "# can be accessed later for filtering or shown in the responses of the Pipeline)\n",
    "\n",
    "# Let's have a look at the first 3 entries:\n",
    "print(docs[:3])\n",
    "\n",
    "# Now, let's write the dicts containing documents to our DB.\n",
    "document_store.write_documents(docs)"
   ]
  },
  {
   "cell_type": "code",
   "execution_count": 3,
   "metadata": {},
   "outputs": [],
   "source": [
    "from haystack.nodes import BM25Retriever\n",
    "\n",
    "retriever = BM25Retriever(document_store=document_store)"
   ]
  },
  {
   "cell_type": "code",
   "execution_count": 4,
   "metadata": {},
   "outputs": [],
   "source": [
    "from haystack.nodes import FARMReader\n",
    "\n",
    "# Load a  local model or any of the QA models on\n",
    "# Hugging Face's model hub (https://huggingface.co/models)\n",
    "\n",
    "reader = FARMReader(model_name_or_path=\"deepset/roberta-base-squad2\", use_gpu=True)"
   ]
  },
  {
   "cell_type": "code",
   "execution_count": 5,
   "metadata": {},
   "outputs": [],
   "source": [
    "from haystack.pipelines import ExtractiveQAPipeline\n",
    "\n",
    "pipe = ExtractiveQAPipeline(reader, retriever)\n"
   ]
  },
  {
   "cell_type": "code",
   "execution_count": 6,
   "metadata": {},
   "outputs": [
    {
     "name": "stdout",
     "output_type": "stream",
     "text": [
      "huggingface/tokenizers: The current process just got forked, after parallelism has already been used. Disabling parallelism to avoid deadlocks...\n",
      "To disable this warning, you can either:\n",
      "\t- Avoid using `tokenizers` before the fork if possible\n",
      "\t- Explicitly set the environment variable TOKENIZERS_PARALLELISM=(true | false)\n"
     ]
    },
    {
     "name": "stderr",
     "output_type": "stream",
     "text": [
      "Inferencing Samples: 100%|██████████| 1/1 [00:02<00:00,  2.47s/ Batches]\n"
     ]
    }
   ],
   "source": [
    "# You can configure how many candidates the Reader and Retriever shall return\n",
    "# The higher top_k_retriever, the better (but also the slower) your answers.\n",
    "prediction = pipe.run(\n",
    "    query=\"What is the name of Denairis Dragon\", params={\"Retriever\": {\"top_k\": 10}, \"Reader\": {\"top_k\": 5}}\n",
    ")\n"
   ]
  },
  {
   "cell_type": "code",
   "execution_count": 7,
   "metadata": {},
   "outputs": [
    {
     "name": "stdout",
     "output_type": "stream",
     "text": [
      "\n",
      "Query: What is the name of Denairis Dragon\n",
      "Answers:\n",
      "[   {   'answer': 'Viserion',\n",
      "        'context': 'ng, leader of the White Walkers, kills and reanimates '\n",
      "                   \"Daenerys' dragon Viserion. Jon and Daenerys attempt to \"\n",
      "                   'persuade Cersei to join their cause by sh'},\n",
      "    {   'answer': 'zaldrīzes',\n",
      "        'context': \"acarys'' an independent lexeme; his High Valyrian term for \"\n",
      "                   \"dragon is ''zaldrīzes''. The phrases ''valar morghulis'' \"\n",
      "                   \"and ''valar dohaeris'', on the oth\"},\n",
      "    {   'answer': 'Vermithrax',\n",
      "        'context': ' Vhagar) and others invented for the show. Among them a '\n",
      "                   'dragon called Vermithrax is mentioned, which is an homage '\n",
      "                   'to Vermithrax Pejorative from the 19'},\n",
      "    {   'answer': 'Daenerys arrives with her dragons',\n",
      "        'context': \"ry flees to Eastwatch to request Daenerys Targaryen's aid. \"\n",
      "                   'Daenerys arrives with her dragons before the group can be '\n",
      "                   'overrun. One dragon is killed and'},\n",
      "    {   'answer': 'Season 7',\n",
      "        'context': '\\n'\n",
      "                   '====Season 7====\\n'\n",
      "                   'During their journey north, the Brotherhood stops at a '\n",
      "                   'farm owned by a farmer Clegane had previously robbed. '\n",
      "                   'Inside, they find the b'}]\n"
     ]
    }
   ],
   "source": [
    "from haystack.utils import print_answers\n",
    "\n",
    "# Change `minimum` to `medium` or `all` to raise the level of detail\n",
    "print_answers(prediction, details=\"minimum\")\n"
   ]
  }
 ],
 "metadata": {
  "kernelspec": {
   "display_name": "Python 3.10.8 ('haystack')",
   "language": "python",
   "name": "python3"
  },
  "language_info": {
   "codemirror_mode": {
    "name": "ipython",
    "version": 3
   },
   "file_extension": ".py",
   "mimetype": "text/x-python",
   "name": "python",
   "nbconvert_exporter": "python",
   "pygments_lexer": "ipython3",
   "version": "3.10.8"
  },
  "orig_nbformat": 4,
  "vscode": {
   "interpreter": {
    "hash": "1db798bac4a95347474cb6e6ab3aef56a09c911b53ff29ae820f08a5bec815df"
   }
  }
 },
 "nbformat": 4,
 "nbformat_minor": 2
}
