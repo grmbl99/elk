{
 "cells": [
  {
   "cell_type": "code",
   "execution_count": 28,
   "metadata": {},
   "outputs": [],
   "source": [
    "import os\n",
    "from haystack.telemetry import disable_telemetry\n",
    "from haystack.document_stores import ElasticsearchDocumentStore\n",
    "\n",
    "os.environ['REQUESTS_CA_BUNDLE'] = 'cisco_umbrella_root_ca.cer'\n",
    "host = os.environ.get(\"ELASTICSEARCH_HOST\", \"localhost\")\n",
    "document_store = ElasticsearchDocumentStore(host=host, username=\"\", password=\"\", index=\"igt-docs\")"
   ]
  },
  {
   "cell_type": "code",
   "execution_count": null,
   "metadata": {},
   "outputs": [],
   "source": [
    "from haystack.utils import convert_files_to_docs\n",
    "\n",
    "doc_dir = \"haystackdata/docxtest\"\n",
    "docs = convert_files_to_docs(dir_path=doc_dir, split_paragraphs=True)\n",
    "print(docs[:3])\n",
    "document_store.write_documents(docs)"
   ]
  },
  {
   "cell_type": "code",
   "execution_count": 29,
   "metadata": {},
   "outputs": [],
   "source": [
    "from haystack.nodes import BM25Retriever\n",
    "from haystack.nodes import FARMReader\n",
    "from haystack.pipelines import ExtractiveQAPipeline\n",
    "\n",
    "os.environ['REQUESTS_CA_BUNDLE'] = 'cisco_umbrella_root_ca.cer'\n",
    "retriever = BM25Retriever(document_store=document_store)\n",
    "reader = FARMReader(model_name_or_path=\"deepset/roberta-base-squad2\", use_gpu=True)\n",
    "#reader.save(\"roberta_model\")\n",
    "#reader = FARMReader(model_name_or_path=\"roberta_model\", use_gpu=True)\n",
    "pipe = ExtractiveQAPipeline(reader, retriever)"
   ]
  },
  {
   "cell_type": "code",
   "execution_count": null,
   "metadata": {},
   "outputs": [],
   "source": [
    "from haystack.utils import print_answers\n",
    "\n",
    "# example queries:\n",
    "# \"how long does it take to reset the wedge\"\n",
    "# \"how many TSM's can be connected to the system\"\n",
    "# \"when does the screensaver become active\"\n",
    "# \"which unit provides the BEFE interface\"\n",
    "# \"what is APC\"\n",
    "# \"where is image processing implemented\"\n",
    "# \"what is the blue color in APC full system\"\n",
    "\n",
    "prediction = pipe.run(\n",
    "    query=\"when does the screensaver become active\", params={\"Retriever\": {\"top_k\": 10}, \"Reader\": {\"top_k\": 5}}\n",
    ")\n",
    "\n",
    "print_answers(prediction, details=\"medium\")"
   ]
  }
 ],
 "metadata": {
  "kernelspec": {
   "display_name": "Python 3.10.8 ('haystack')",
   "language": "python",
   "name": "python3"
  },
  "language_info": {
   "codemirror_mode": {
    "name": "ipython",
    "version": 3
   },
   "file_extension": ".py",
   "mimetype": "text/x-python",
   "name": "python",
   "nbconvert_exporter": "python",
   "pygments_lexer": "ipython3",
   "version": "3.10.8"
  },
  "orig_nbformat": 4,
  "vscode": {
   "interpreter": {
    "hash": "bf702632de00e3029d057c0722a7c360c8131edef821faf66bf5e77451cf8e0c"
   }
  }
 },
 "nbformat": 4,
 "nbformat_minor": 2
}
