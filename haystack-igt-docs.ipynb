{
 "cells": [
  {
   "cell_type": "code",
   "execution_count": 1,
   "metadata": {},
   "outputs": [],
   "source": [
    "import os\n",
    "from haystack.document_stores import ElasticsearchDocumentStore\n",
    "\n",
    "host = os.environ.get(\"ELASTICSEARCH_HOST\", \"localhost\")\n",
    "document_store = ElasticsearchDocumentStore(host=host, username=\"\", password=\"\", index=\"igt-docs\")"
   ]
  },
  {
   "cell_type": "code",
   "execution_count": 7,
   "metadata": {},
   "outputs": [
    {
     "name": "stderr",
     "output_type": "stream",
     "text": [
      "WARNING:haystack.utils.preprocessing:Skipped file haystackdata/docxtest/.DS_Store as type  is not supported here. See haystack.file_converter for support of more file types\n"
     ]
    }
   ],
   "source": [
    "from haystack.utils import convert_files_to_docs\n",
    "\n",
    "doc_dir = \"haystackdata/docxtest\"\n",
    "docs = convert_files_to_docs(dir_path=doc_dir, split_paragraphs=True)\n",
    "#print(docs[:3])\n",
    "document_store.write_documents(docs)"
   ]
  },
  {
   "cell_type": "code",
   "execution_count": 3,
   "metadata": {},
   "outputs": [],
   "source": [
    "from haystack.nodes import BM25Retriever\n",
    "from haystack.nodes import FARMReader\n",
    "from haystack.pipelines import ExtractiveQAPipeline\n",
    "\n",
    "retriever = BM25Retriever(document_store=document_store)\n",
    "reader = FARMReader(model_name_or_path=\"deepset/roberta-base-squad2\", use_gpu=True)\n",
    "pipe = ExtractiveQAPipeline(reader, retriever)"
   ]
  },
  {
   "cell_type": "code",
   "execution_count": 18,
   "metadata": {},
   "outputs": [
    {
     "name": "stderr",
     "output_type": "stream",
     "text": [
      "Inferencing Samples: 100%|██████████| 1/1 [00:02<00:00,  2.16s/ Batches]"
     ]
    },
    {
     "name": "stdout",
     "output_type": "stream",
     "text": [
      "\n",
      "Query: how long does it take to reset the wedge\n",
      "Answers:\n",
      "[   {   'answer': '3 seconds',\n",
      "        'context': ' the MoveWedge is executed. The ResetWedge execution will '\n",
      "                   'take maximal 3 seconds.\\n'\n",
      "                   '\\xa0\\n'\n",
      "                   'This use case ends:\\n'\n",
      "                   'when the user stops the wedge movement, OR:\\n'\n",
      "                   'wh',\n",
      "        'score': 0.7484565377235413},\n",
      "    {   'answer': 'first moved out of the visible area as soon as possible',\n",
      "        'context': 'th channels are reset):\\n'\n",
      "                   'The designated wedge is first moved out of the visible '\n",
      "                   'area as soon as possible, and then rotated and moved to '\n",
      "                   'its ‘WedgeParkP',\n",
      "        'score': 0.13413481414318085},\n",
      "    {   'answer': '-135º',\n",
      "        'context': '\\xa0(see figure above): rotation of ‘Wedge 1’ = 0º, '\n",
      "                   'rotation of ‘Wedge 2’ = -135º.\\n'\n",
      "                   '\\xa0\\n'\n",
      "                   'Operation:\\n'\n",
      "                   'The wedges are always controlled Viewport oriented.\\n'\n",
      "                   'As su',\n",
      "        'score': 0.06662192195653915},\n",
      "    {   'answer': 'infinite',\n",
      "        'context': 'at the same position.\\n'\n",
      "                   'Only after a ResetWedge (with WedgeTranslation = infinite) '\n",
      "                   'the Wedge remains outside the current RFS area.\\n'\n",
      "                   'Hereafter, when the u',\n",
      "        'score': 0.053889065980911255},\n",
      "    {   'answer': 'resetting the geometry is not possible',\n",
      "        'context': 'tional Acquisition scenario (Prep/Exposure is pressed), '\n",
      "                   'resetting the geometry is not possible: the input is '\n",
      "                   'disabled.\\n'\n",
      "                   ' \\n'\n",
      "                   'US.Azurion.Imaging.Functional',\n",
      "        'score': 0.048084575682878494}]\n"
     ]
    },
    {
     "name": "stderr",
     "output_type": "stream",
     "text": [
      "\n"
     ]
    }
   ],
   "source": [
    "from haystack.utils import print_answers\n",
    "\n",
    "prediction = pipe.run(\n",
    "    query=\"how long does it take to reset the wedge\", params={\"Retriever\": {\"top_k\": 20}, \"Reader\": {\"top_k\": 5}}\n",
    ")\n",
    "\n",
    "print_answers(prediction, details=\"medium\")"
   ]
  }
 ],
 "metadata": {
  "kernelspec": {
   "display_name": "Python 3.10.8 ('haystack')",
   "language": "python",
   "name": "python3"
  },
  "language_info": {
   "codemirror_mode": {
    "name": "ipython",
    "version": 3
   },
   "file_extension": ".py",
   "mimetype": "text/x-python",
   "name": "python",
   "nbconvert_exporter": "python",
   "pygments_lexer": "ipython3",
   "version": "3.10.8"
  },
  "orig_nbformat": 4,
  "vscode": {
   "interpreter": {
    "hash": "1db798bac4a95347474cb6e6ab3aef56a09c911b53ff29ae820f08a5bec815df"
   }
  }
 },
 "nbformat": 4,
 "nbformat_minor": 2
}
