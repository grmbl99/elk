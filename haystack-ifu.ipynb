{
 "cells": [
  {
   "cell_type": "code",
   "execution_count": 3,
   "metadata": {},
   "outputs": [],
   "source": [
    "import os\n",
    "from haystack.document_stores import ElasticsearchDocumentStore\n",
    "\n",
    "host = os.environ.get(\"ELASTICSEARCH_HOST\", \"localhost\")\n",
    "document_store = ElasticsearchDocumentStore(host=host, username=\"\", password=\"\", index=\"ifu\")"
   ]
  },
  {
   "cell_type": "code",
   "execution_count": 4,
   "metadata": {},
   "outputs": [
    {
     "name": "stderr",
     "output_type": "stream",
     "text": [
      "WARNING:haystack.utils.preprocessing:Skipped file haystackdata/ifu/.DS_Store as type  is not supported here. See haystack.file_converter for support of more file types\n",
      "WARNING:haystack.utils.preprocessing:Skipped file haystackdata/ifu/azurion_ifu.pdf.bak as type .bak is not supported here. See haystack.file_converter for support of more file types\n"
     ]
    },
    {
     "name": "stdout",
     "output_type": "stream",
     "text": [
      "[<Document: {'content': 'Instructions\\nfor Use\\nEnglish\\n4523 001 01513', 'content_type': 'text', 'score': None, 'meta': {'name': 'azurion_ifu.txt'}, 'embedding': None, 'id': 'e69a0b8d8884c77b55b97ed48f73398'}>, <Document: {'content': 'Philips Azurion\\nRelease 2.2\\nContents\\n1 Introduction', 'content_type': 'text', 'score': None, 'meta': {'name': 'azurion_ifu.txt'}, 'embedding': None, 'id': 'b8ddaeea1d29fcc44e4b76c70a667e1c'}>, <Document: {'content': '17', 'content_type': 'text', 'score': None, 'meta': {'name': 'azurion_ifu.txt'}, 'embedding': None, 'id': 'b9674cccc622d857e0ba3a483c697461'}>]\n"
     ]
    }
   ],
   "source": [
    "from haystack.utils import clean_wiki_text, convert_files_to_docs\n",
    "\n",
    "doc_dir = \"haystackdata/ifu\"\n",
    "docs = convert_files_to_docs(dir_path=doc_dir, split_paragraphs=True)\n",
    "print(docs[:3])\n",
    "document_store.write_documents(docs)"
   ]
  },
  {
   "cell_type": "code",
   "execution_count": 5,
   "metadata": {},
   "outputs": [],
   "source": [
    "from haystack.nodes import BM25Retriever\n",
    "\n",
    "retriever = BM25Retriever(document_store=document_store)"
   ]
  },
  {
   "cell_type": "code",
   "execution_count": 6,
   "metadata": {},
   "outputs": [],
   "source": [
    "from haystack.nodes import FARMReader\n",
    "\n",
    "reader = FARMReader(model_name_or_path=\"deepset/roberta-base-squad2\", use_gpu=True)"
   ]
  },
  {
   "cell_type": "code",
   "execution_count": 7,
   "metadata": {},
   "outputs": [],
   "source": [
    "from haystack.pipelines import ExtractiveQAPipeline\n",
    "\n",
    "pipe = ExtractiveQAPipeline(reader, retriever)\n"
   ]
  },
  {
   "cell_type": "code",
   "execution_count": 25,
   "metadata": {},
   "outputs": [
    {
     "name": "stderr",
     "output_type": "stream",
     "text": [
      "Inferencing Samples: 100%|██████████| 2/2 [00:04<00:00,  2.26s/ Batches]"
     ]
    },
    {
     "name": "stdout",
     "output_type": "stream",
     "text": [
      "\n",
      "Query: beam limitation\n",
      "Answers:\n",
      "[   {   'answer': 'misaligned',\n",
      "        'context': 'The X-ray beam is misaligned. The image size is reduced. '\n",
      "                   'Align the detector to portrait or landscape\\n'\n",
      "                   'orientation.',\n",
      "        'score': 0.5999181270599365},\n",
      "    {   'answer': '285',\n",
      "        'context': '84, 292-294\\n'\n",
      "                   '— Automatic exposure control test 285\\n'\n",
      "                   '— Beam limitation check 285\\n'\n",
      "                   '— Calibration 292\\n'\n",
      "                   '— CBCT calibration 292\\n'\n",
      "                   '— Cleaning the system 275\\n'\n",
      "                   '— Dis',\n",
      "        'score': 0.33294057846069336},\n",
      "    {   'answer': 'Never radiate unless absolutely necessary',\n",
      "        'context': 'ray radiation on the patient (in order\\n'\n",
      "                   'of workflow):\\n'\n",
      "                   '• Never radiate unless absolutely necessary and only '\n",
      "                   'radiate for as short a time as possible.\\n'\n",
      "                   '• S',\n",
      "        'score': 0.25294411182403564},\n",
      "    {   'answer': 'Remove any objects in the beam',\n",
      "        'context': 'ion modality whenever possible (for\\n'\n",
      "                   'example, ultrasound).\\n'\n",
      "                   '• Remove any objects in the beam that are not radiolucent '\n",
      "                   'or that are not necessary to perfo',\n",
      "        'score': 0.1607956737279892},\n",
      "    {   'answer': 'shutters) are malfunctioning',\n",
      "        'context': ' as needed If it is suspected that the beam limiting '\n",
      "                   'device\\n'\n",
      "                   '(shutters) are malfunctioning.\\n'\n",
      "                   '1 Reset the shutters.\\n'\n",
      "                   '2 Position the tabletop horizontally ',\n",
      "        'score': 0.15538400411605835}]\n"
     ]
    },
    {
     "name": "stderr",
     "output_type": "stream",
     "text": [
      "\n"
     ]
    }
   ],
   "source": [
    "from haystack.utils import print_answers\n",
    "\n",
    "# You can configure how many candidates the Reader and Retriever shall return\n",
    "# The higher top_k_retriever, the better (but also the slower) your answers.\n",
    "prediction = pipe.run(\n",
    "    query=\"beam limitation\", params={\"Retriever\": {\"top_k\": 50}, \"Reader\": {\"top_k\": 5}}\n",
    ")\n",
    "\n",
    "# Change `minimum` to `medium` or `all` to raise the level of detail\n",
    "print_answers(prediction, details=\"medium\")\n"
   ]
  }
 ],
 "metadata": {
  "kernelspec": {
   "display_name": "Python 3.10.8 ('haystack')",
   "language": "python",
   "name": "python3"
  },
  "language_info": {
   "codemirror_mode": {
    "name": "ipython",
    "version": 3
   },
   "file_extension": ".py",
   "mimetype": "text/x-python",
   "name": "python",
   "nbconvert_exporter": "python",
   "pygments_lexer": "ipython3",
   "version": "3.10.8"
  },
  "orig_nbformat": 4,
  "vscode": {
   "interpreter": {
    "hash": "1db798bac4a95347474cb6e6ab3aef56a09c911b53ff29ae820f08a5bec815df"
   }
  }
 },
 "nbformat": 4,
 "nbformat_minor": 2
}
